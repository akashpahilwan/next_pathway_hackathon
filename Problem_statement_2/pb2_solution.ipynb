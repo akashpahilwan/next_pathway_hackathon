{
 "cells": [
  {
   "cell_type": "markdown",
   "metadata": {},
   "source": [
    "Q1: CurrentTimestamp"
   ]
  },
  {
   "cell_type": "code",
   "execution_count": null,
   "metadata": {},
   "outputs": [],
   "source": [
    "def get_q1():\n",
    "    s1= str(@utcNow())\n",
    "    return s1"
   ]
  },
  {
   "cell_type": "markdown",
   "metadata": {},
   "source": [
    "Q2: DateFromDaysSince2"
   ]
  },
  {
   "cell_type": "code",
   "execution_count": null,
   "metadata": {},
   "outputs": [],
   "source": [
    "def get_q2(date,days_to_add):\n",
    "    s2= @formatDateTime(addDays(date,days_to_add),'yyyy-MM-dd')\n",
    "    return s2"
   ]
  },
  {
   "cell_type": "markdown",
   "metadata": {},
   "source": [
    "Q3: MinutesFromTime"
   ]
  },
  {
   "cell_type": "code",
   "execution_count": null,
   "metadata": {},
   "outputs": [],
   "source": [
    "def get_q3(time_str):\n",
    "    s3= @substring(string(time_str),3,2)\n",
    "    return int(s3)"
   ]
  },
  {
   "cell_type": "markdown",
   "metadata": {},
   "source": [
    "Q4: TimetFromTimestamp"
   ]
  },
  {
   "cell_type": "code",
   "execution_count": null,
   "metadata": {},
   "outputs": [],
   "source": [
    "def get_q4(time_stamp):\n",
    "    s4= @{div(sub(ticks(adddays(convertToUtc(time_stamp, 'Pacific Standard Time'), -1)), ticks('1970-01-01')),10000000)}\n",
    "    return int(s4)"
   ]
  },
  {
   "cell_type": "markdown",
   "metadata": {},
   "source": [
    "Q5: BitAnd"
   ]
  },
  {
   "cell_type": "code",
   "execution_count": null,
   "metadata": {},
   "outputs": [],
   "source": [
    "def get_q5(num1,num2):\n",
    "    num1_bin= str(@toBinary(num1))\n",
    "    num2_bin= str(@toBinary(num2))\n",
    "    num1_32_bin='0'*(len(num1_bin)-32)+str(num1_bin)\n",
    "    num2_32_bin='0'*(len(num2_bin)-32)+str(num1_bin)\n",
    "    res=\"\"\n",
    "    for i in range(32):\n",
    "        res.append(num1_32_bin[i]&num2_32_bin[i])\n",
    "    return @toInteger(int(res))"
   ]
  },
  {
   "cell_type": "markdown",
   "metadata": {},
   "source": [
    "Q6: BitCompress"
   ]
  },
  {
   "cell_type": "code",
   "execution_count": null,
   "metadata": {},
   "outputs": [],
   "source": [
    "def get_q6(mynumber):\n",
    "    s6= @toInteger(int(mynumber))\n",
    "    return s6"
   ]
  },
  {
   "cell_type": "markdown",
   "metadata": {},
   "source": [
    "Q7: Abs"
   ]
  },
  {
   "cell_type": "code",
   "execution_count": null,
   "metadata": {},
   "outputs": [],
   "source": [
    "def get_q7(num1,num2):\n",
    "    s7= @sub(max(num1,num2),min(num1,num2))\n",
    "    return s7"
   ]
  },
  {
   "cell_type": "markdown",
   "metadata": {},
   "source": [
    "Q8: Floor"
   ]
  },
  {
   "cell_type": "code",
   "execution_count": null,
   "metadata": {},
   "outputs": [],
   "source": [
    "def get_q8(num1):\n",
    "    s8= @substring(num1,0,sub(sub(length(num1),indexOf(num1,'.')),1))\n",
    "    return s8"
   ]
  },
  {
   "cell_type": "markdown",
   "metadata": {},
   "source": [
    "Q9: Random"
   ]
  },
  {
   "cell_type": "code",
   "execution_count": null,
   "metadata": {},
   "outputs": [],
   "source": [
    "def get_q9():\n",
    "    s9= @rand(0,1000000000)\n",
    "    return s9"
   ]
  },
  {
   "cell_type": "markdown",
   "metadata": {},
   "source": []
  },
  {
   "cell_type": "markdown",
   "metadata": {},
   "source": []
  },
  {
   "cell_type": "markdown",
   "metadata": {},
   "source": []
  }
 ],
 "metadata": {
  "kernelspec": {
   "display_name": "Python 3.10.2 64-bit",
   "language": "python",
   "name": "python3"
  },
  "language_info": {
   "name": "python",
   "version": "3.10.2"
  },
  "orig_nbformat": 4,
  "vscode": {
   "interpreter": {
    "hash": "369f2c481f4da34e4445cda3fffd2e751bd1c4d706f27375911949ba6bb62e1c"
   }
  }
 },
 "nbformat": 4,
 "nbformat_minor": 2
}
