{
 "cells": [
  {
   "cell_type": "markdown",
   "metadata": {},
   "source": [
    "Q1: CurrentTimestamp"
   ]
  },
  {
   "cell_type": "code",
   "execution_count": null,
   "metadata": {},
   "outputs": [],
   "source": [
    "def get_q1():\n",
    "    s1= str(@utcNow())\n",
    "    return s1"
   ]
  },
  {
   "cell_type": "markdown",
   "metadata": {},
   "source": [
    "Q2: DateFromDaysSince2"
   ]
  },
  {
   "cell_type": "code",
   "execution_count": null,
   "metadata": {},
   "outputs": [],
   "source": [
    "def get_q2(date,days_to_add):\n",
    "    s2= @formatDateTime(addDays(date,days_to_add),'yyyy-MM-dd')\n",
    "    return s2"
   ]
  },
  {
   "cell_type": "markdown",
   "metadata": {},
   "source": [
    "Q3: MinutesFromTime"
   ]
  },
  {
   "cell_type": "code",
   "execution_count": null,
   "metadata": {},
   "outputs": [],
   "source": [
    "def get_q3(time_str):\n",
    "    s3= @substring(string(time_str),3,2)\n",
    "    return int(s3)"
   ]
  },
  {
   "cell_type": "markdown",
   "metadata": {},
   "source": [
    "Q4: TimetFromTimestamp"
   ]
  },
  {
   "cell_type": "code",
   "execution_count": null,
   "metadata": {},
   "outputs": [],
   "source": [
    "def get_q4(time_stamp):\n",
    "    s4= @{div(sub(ticks(adddays(convertToUtc(time_stamp, 'Pacific Standard Time'), -1)), ticks('1970-01-01')),10000000)}\n",
    "    return int(s4)"
   ]
  },
  {
   "cell_type": "markdown",
   "metadata": {},
   "source": [
    "Q5: BitAnd"
   ]
  },
  {
   "cell_type": "code",
   "execution_count": null,
   "metadata": {},
   "outputs": [],
   "source": [
    "def get_q5(num1,num2):\n",
    "    s5= @bitwiseAnd(num1,num2)\n",
    "    return s5"
   ]
  },
  {
   "cell_type": "markdown",
   "metadata": {},
   "source": [
    "Q6: BitCompress"
   ]
  },
  {
   "cell_type": "code",
   "execution_count": null,
   "metadata": {},
   "outputs": [],
   "source": [
    "def get_q6(mynumber):\n",
    "    s6= @toInteger(int(mynumber))\n",
    "    return s6"
   ]
  },
  {
   "cell_type": "markdown",
   "metadata": {},
   "source": [
    "Q7: Abs"
   ]
  },
  {
   "cell_type": "code",
   "execution_count": null,
   "metadata": {},
   "outputs": [],
   "source": [
    "def get_q7(num1,num2):\n",
    "    s7= @sub(max(num1,num2),min(num1,num2))\n",
    "    return s7"
   ]
  },
  {
   "cell_type": "markdown",
   "metadata": {},
   "source": [
    "Q8: Floor"
   ]
  },
  {
   "cell_type": "code",
   "execution_count": null,
   "metadata": {},
   "outputs": [],
   "source": [
    "def get_q8(num1):\n",
    "    s8= @substring(num1,0,sub(sub(length(num1),indexOf(num1,'.')),1))\n",
    "\n",
    "    #s8: @floor(num1)\n",
    "    return s8"
   ]
  },
  {
   "cell_type": "markdown",
   "metadata": {},
   "source": [
    "Q9: Random"
   ]
  },
  {
   "cell_type": "code",
   "execution_count": null,
   "metadata": {},
   "outputs": [],
   "source": [
    "def get_q9():\n",
    "    s9= @rand(0,1000000000)\n",
    "    return s9"
   ]
  },
  {
   "cell_type": "markdown",
   "metadata": {},
   "source": [
    "Q10: NotNull\n"
   ]
  },
  {
   "cell_type": "markdown",
   "metadata": {},
   "source": []
  },
  {
   "cell_type": "code",
   "execution_count": null,
   "metadata": {},
   "outputs": [],
   "source": [
    "def get_q10(col1):\n",
    "    s10= @if(notNull(col1),col1,null)\n",
    "    return s10"
   ]
  },
  {
   "cell_type": "markdown",
   "metadata": {},
   "source": []
  },
  {
   "cell_type": "markdown",
   "metadata": {},
   "source": [
    "Q11: NullToValue"
   ]
  },
  {
   "cell_type": "code",
   "execution_count": null,
   "metadata": {},
   "outputs": [],
   "source": [
    "def get_q11(col1,num1):\n",
    "    s11= @iifNull(col1,num1)\n",
    "    return s11"
   ]
  },
  {
   "cell_type": "markdown",
   "metadata": {},
   "source": [
    "Q12: AsDouble"
   ]
  },
  {
   "cell_type": "code",
   "execution_count": null,
   "metadata": {},
   "outputs": [],
   "source": [
    "def get_q12(num1):\n",
    "    s12= @toDouble(num1)\n",
    "    return s12"
   ]
  },
  {
   "cell_type": "markdown",
   "metadata": {},
   "source": [
    "Q13: MantissaFromDecimal"
   ]
  },
  {
   "cell_type": "code",
   "execution_count": null,
   "metadata": {},
   "outputs": [],
   "source": [
    "def get_q13(num1):\n",
    "    s13= @substring(\n",
    "            num1,\n",
    "            add(sub(length('55.4312'),sub(length('55.4312'),indexOf('55.4312','.'))),1),\n",
    "            sub(length('55.4312'),add(indexOf('55.4312','.'),1))\n",
    "        )           \n",
    "    return s13"
   ]
  },
  {
   "cell_type": "markdown",
   "metadata": {},
   "source": [
    "Q14: RawLength"
   ]
  },
  {
   "cell_type": "code",
   "execution_count": null,
   "metadata": {},
   "outputs": [],
   "source": [
    "def get_q14(string1):\n",
    "    s14= @length(string1)           \n",
    "    return s14"
   ]
  },
  {
   "cell_type": "code",
   "execution_count": null,
   "metadata": {},
   "outputs": [],
   "source": [
    "Q15: AlNum"
   ]
  },
  {
   "cell_type": "code",
   "execution_count": 1,
   "metadata": {},
   "outputs": [],
   "source": [
    "def get_q15(string1):\n",
    "    s15=1\n",
    "    for char in string1:\n",
    "        if not string1.islpha():\n",
    "            isalpha=0\n",
    "            break\n",
    "    return s15"
   ]
  },
  {
   "cell_type": "markdown",
   "metadata": {},
   "source": [
    "Q16: Change"
   ]
  },
  {
   "cell_type": "code",
   "execution_count": null,
   "metadata": {},
   "outputs": [],
   "source": [
    "def get_q16(input_string,string_to_replace,string_replaced_with):\n",
    "    s16= @replace(input_string,string_to_replace,string_replaced_with)\n",
    "    return s16\n",
    "    "
   ]
  },
  {
   "cell_type": "markdown",
   "metadata": {},
   "source": [
    "Q17: Compare"
   ]
  },
  {
   "cell_type": "code",
   "execution_count": null,
   "metadata": {},
   "outputs": [],
   "source": [
    "def get_q17(string1,string2,char):\n",
    "    string1_str=\"\"\n",
    "    string1_num=\"\"\n",
    "    string2_str=\"\"\n",
    "    string2_num=\"\"\n",
    "    for ele in string1:\n",
    "        if ele.isalpha():\n",
    "            string1_str+=ele\n",
    "        else:\n",
    "            string1_num+=ele\n",
    "    for ele in string2:\n",
    "        if ele.isalpha():\n",
    "            string2_str+=ele\n",
    "        else:\n",
    "            string2_num+=ele\n",
    "    \n",
    "    if char='L':\n",
    "        if string2_str>string1_str:\n",
    "            return -1\n",
    "        elif string2_str==string1_str:\n",
    "            return 0\n",
    "        else:\n",
    "            return 1\n",
    "    else:\n",
    "        if string2_num>string1_num:\n",
    "            return -1\n",
    "        elif string2_str==string1_str:\n",
    "            return 0\n",
    "        else:\n",
    "            return 1\n",
    "    "
   ]
  },
  {
   "cell_type": "markdown",
   "metadata": {},
   "source": [
    "Q18: Dcount"
   ]
  },
  {
   "cell_type": "code",
   "execution_count": null,
   "metadata": {},
   "outputs": [],
   "source": [
    "def get_q18(input_string,string1):\n",
    "    s18=@countof(input_string, string1)\n",
    "    return s18"
   ]
  },
  {
   "cell_type": "markdown",
   "metadata": {},
   "source": [
    "Q19: Str"
   ]
  },
  {
   "cell_type": "code",
   "execution_count": null,
   "metadata": {},
   "outputs": [],
   "source": [
    "def get_q19(input_string,count):\n",
    "    s19='input_string'*count\n",
    "    return s19"
   ]
  }
 ],
 "metadata": {
  "kernelspec": {
   "display_name": "Python 3.10.2 64-bit",
   "language": "python",
   "name": "python3"
  },
  "language_info": {
   "codemirror_mode": {
    "name": "ipython",
    "version": 3
   },
   "file_extension": ".py",
   "mimetype": "text/x-python",
   "name": "python",
   "nbconvert_exporter": "python",
   "pygments_lexer": "ipython3",
   "version": "3.10.2"
  },
  "orig_nbformat": 4,
  "vscode": {
   "interpreter": {
    "hash": "369f2c481f4da34e4445cda3fffd2e751bd1c4d706f27375911949ba6bb62e1c"
   }
  }
 },
 "nbformat": 4,
 "nbformat_minor": 2
}
